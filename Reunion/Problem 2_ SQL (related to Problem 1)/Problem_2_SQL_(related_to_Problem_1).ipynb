{
  "nbformat": 4,
  "nbformat_minor": 0,
  "metadata": {
    "colab": {
      "provenance": []
    },
    "kernelspec": {
      "name": "python3",
      "display_name": "Python 3"
    },
    "language_info": {
      "name": "python"
    }
  },
  "cells": [
    {
      "cell_type": "markdown",
      "source": [
        "# **IMPORTING LIBRARIES**"
      ],
      "metadata": {
        "id": "AmnBCVa040eO"
      }
    },
    {
      "cell_type": "code",
      "execution_count": 1,
      "metadata": {
        "id": "9ifaA5Sa8uIY"
      },
      "outputs": [],
      "source": [
        "import sqlite3"
      ]
    },
    {
      "cell_type": "markdown",
      "source": [
        "# **CONNECTING TO DATABASE**"
      ],
      "metadata": {
        "id": "CpDRTnDb45kw"
      }
    },
    {
      "cell_type": "code",
      "source": [
        "conn = sqlite3.connect('ecommerce_star.db')\n",
        "cursor = conn.cursor()"
      ],
      "metadata": {
        "id": "QGLf3Vvo80Ak"
      },
      "execution_count": 2,
      "outputs": []
    },
    {
      "cell_type": "markdown",
      "source": [
        "# **Q1 : Retrieve the top 5 customers who have made the highest average order amounts in the last 6 months. The average order amount should be calculated for each customer, and the result should be sorted in descending order.**"
      ],
      "metadata": {
        "id": "I8VOq8pz-Rmw"
      }
    },
    {
      "cell_type": "code",
      "source": [
        "cursor.execute('''SELECT CustomerID, AVG(TotalAmount) AS AvgOrderAmount\n",
        "FROM FactOrders\n",
        "WHERE OrderDateID >= (SELECT MAX(DateID) FROM DimDate WHERE Date >= DATE('now', '-6 months'))\n",
        "GROUP BY CustomerID\n",
        "ORDER BY AvgOrderAmount DESC\n",
        "LIMIT 5''');\n",
        "cursor.fetchall()"
      ],
      "metadata": {
        "colab": {
          "base_uri": "https://localhost:8080/"
        },
        "id": "n5l215kY83dv",
        "outputId": "fe322b7a-fa7e-4117-e68b-aaef2e3df2bc"
      },
      "execution_count": 3,
      "outputs": [
        {
          "output_type": "execute_result",
          "data": {
            "text/plain": [
              "[(1, 834.16)]"
            ]
          },
          "metadata": {},
          "execution_count": 3
        }
      ]
    },
    {
      "cell_type": "markdown",
      "source": [
        "# **Q2 : Retrieve the list of customer whose order value is lower this year as compared to previous year**"
      ],
      "metadata": {
        "id": "ZAAGriuI-X1X"
      }
    },
    {
      "cell_type": "code",
      "source": [
        "cursor.execute('''WITH OrderValues AS (\n",
        "    SELECT CustomerID,\n",
        "           SUM(TotalAmount) AS TotalOrderAmount,\n",
        "           STRFTIME('%Y', DATE) AS OrderYear\n",
        "    FROM FactOrders\n",
        "    INNER JOIN DimDate ON FactOrders.OrderDateID = DimDate.DateID\n",
        "    GROUP BY CustomerID, OrderYear\n",
        ")\n",
        "SELECT o1.CustomerID\n",
        "FROM OrderValues o1\n",
        "INNER JOIN OrderValues o2 ON o1.CustomerID = o2.CustomerID AND o1.OrderYear = STRFTIME('%Y', DATE('now')) AND o2.OrderYear = CAST(STRFTIME('%Y', DATE('now')) - 1 AS TEXT)\n",
        "WHERE o1.TotalOrderAmount < o2.TotalOrderAmount;\n",
        "''');\n",
        "cursor.fetchall()"
      ],
      "metadata": {
        "colab": {
          "base_uri": "https://localhost:8080/"
        },
        "id": "vmTw15vq85Cg",
        "outputId": "5552d322-e51c-47e3-eb4b-6157ae82e770"
      },
      "execution_count": 4,
      "outputs": [
        {
          "output_type": "execute_result",
          "data": {
            "text/plain": [
              "[(3,), (4,), (7,), (10,)]"
            ]
          },
          "metadata": {},
          "execution_count": 4
        }
      ]
    },
    {
      "cell_type": "markdown",
      "source": [
        "# **Q4 : Retrieve the list of top 5 selling products. Further bifurcate the sales by product variants**"
      ],
      "metadata": {
        "id": "VMrp8s-r-kkJ"
      }
    },
    {
      "cell_type": "code",
      "source": [
        "cursor.execute('''WITH ProductSales AS (\n",
        "    SELECT dp.ProductName,\n",
        "           dpv.VariantName,\n",
        "           SUM(fod.Quantity) AS TotalSales\n",
        "    FROM FactOrderDetails fod\n",
        "    INNER JOIN DimProductVariants dpv ON fod.ProductVariantID = dpv.ProductVariantID\n",
        "    INNER JOIN DimProducts dp ON dpv.ProductID = dp.ProductID\n",
        "    GROUP BY dp.ProductName, dpv.VariantName\n",
        ")\n",
        "SELECT ProductName,\n",
        "       VariantName,\n",
        "       TotalSales\n",
        "FROM ProductSales\n",
        "ORDER BY TotalSales DESC\n",
        "LIMIT 5;\n",
        "''')\n",
        "cursor.fetchall()"
      ],
      "metadata": {
        "colab": {
          "base_uri": "https://localhost:8080/"
        },
        "id": "Ki9lSqKQ86Wg",
        "outputId": "6bfbffb9-cbf0-4619-8254-0bd904e30118"
      },
      "execution_count": 5,
      "outputs": [
        {
          "output_type": "execute_result",
          "data": {
            "text/plain": [
              "[('Very', 'Very Radio', 443),\n",
              " ('Treat', 'Treat Act', 427),\n",
              " ('Writer', 'Writer Draw', 411),\n",
              " ('Region', 'Region Nice', 406),\n",
              " ('Develop', 'Develop Begin', 395)]"
            ]
          },
          "metadata": {},
          "execution_count": 5
        }
      ]
    }
  ]
}